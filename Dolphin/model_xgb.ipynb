{
 "cells": [
  {
   "cell_type": "markdown",
   "id": "0cecf3e0",
   "metadata": {},
   "source": [
    "# Import"
   ]
  },
  {
   "cell_type": "code",
   "execution_count": 1,
   "id": "9adedea5",
   "metadata": {},
   "outputs": [],
   "source": [
    "import pandas as pd\n",
    "import numpy as np\n",
    "import matplotlib.pyplot as plt\n",
    "import seaborn as sns"
   ]
  },
  {
   "cell_type": "code",
   "execution_count": 44,
   "id": "85f4eac2",
   "metadata": {},
   "outputs": [],
   "source": [
    "from sklearn.preprocessing import MinMaxScaler\n",
    "from sklearn.model_selection import GridSearchCV\n",
    "from sklearn.model_selection import train_test_split, cross_val_score, KFold\n",
    "from sklearn.metrics import mean_squared_error\n",
    "from sklearn.datasets import make_regression\n",
    "\n",
    "from xgboost import XGBRegressor\n",
    "from xgboost import plot_importance\n",
    "import xgboost as xgb\n",
    "#import lightgbm as lgb\n",
    "\n",
    "from xgboost import plot_importance \n",
    "import matplotlib.pyplot as plt\n",
    "import matplotlib.font_manager as fm\n",
    "from matplotlib import rc"
   ]
  },
  {
   "cell_type": "markdown",
   "id": "e87a09a1",
   "metadata": {},
   "source": [
    "# 데이터 불러오기 \n",
    "1. iszero\n",
    "2. nozero\n",
    "3. nf (new feature)"
   ]
  },
  {
   "cell_type": "code",
   "execution_count": 20,
   "id": "9efc8bd5",
   "metadata": {},
   "outputs": [],
   "source": [
    "path = \"./Dataset/\"\n",
    "\n",
    "# is zero\n",
    "isZero = pd.read_csv(path+\"da_data.csv\")\n",
    "\n",
    "# no zero \n",
    "noZero = pd.read_csv(path+\"da_data_nozero.csv\")\n",
    "\n",
    "# new features \n",
    "nf_peppers = pd.read_csv(path+\"건고추Model.csv\")\n",
    "nf_green_onion = pd.read_csv(path+\"대파Model.csv\")\n",
    "nf_garlic = pd.read_csv(path+\"마늘Model.csv\")\n",
    "nf_radish = pd.read_csv(path+\"무Model.csv\")\n",
    "nf_cabbage = pd.read_csv(path+\"배추Model.csv\")"
   ]
  },
  {
   "cell_type": "markdown",
   "id": "3caaee6b",
   "metadata": {},
   "source": [
    "# 함수화"
   ]
  },
  {
   "cell_type": "code",
   "execution_count": 42,
   "id": "dbaf9838",
   "metadata": {},
   "outputs": [],
   "source": [
    "def pre_processing(data) :\n",
    "    scaler = MinMaxScaler()\n",
    "    scale_cols = data.iloc[:,1:].columns\n",
    "    \n",
    "    data.sort_index(ascending=False).reset_index(drop=True)\n",
    "    \n",
    "    scaled = scaler.fit_transform(data[scale_cols])\n",
    "    scaled = pd.DataFrame(scaled)\n",
    "    scaled.columns = scale_cols\n",
    "    \n",
    "    return scaled\n",
    "\n",
    "\n",
    "def get_data_split(data, X_column, y_column) :\n",
    "    train_X, test_X, train_y, test_y = train_test_split(\n",
    "    data[X_column], \n",
    "    data[y_column],\n",
    "    test_size=0.2,\n",
    "    shuffle=True,   # random split \n",
    "    random_state=42) # seed 고정, same sampling \n",
    "    \n",
    "    return train_X, test_X, train_y, test_y\n",
    "\n",
    "\n",
    "def gridsearchCV (model, parameters, X_train, y_train) :\n",
    "    grid = GridSearchCV(model, param_grid = parameters, scoring='accuracy', cv=2) # cv is fold num\n",
    "    grid.fit(X_train, y_train)\n",
    "    \n",
    "    print('GridSearchCV 최적 하이퍼 파라미터 :', grid.best_params_)\n",
    "    print('GridSearchCV 최고 정확도: {0:.4f}'.format(grid.best_score_))\n",
    "    print('GridSearchCV 최적 하이퍼 파라미터로 학습된 Esimator 반환')\n",
    "    \n",
    "    return grid.best_estimator_\n",
    "\n",
    "\n",
    "def feature_importance(model_xgb) : \n",
    "    %matplotlib inline\n",
    "    plt.rcParams['axes.unicode_minus'] = False\n",
    "    font_path = \"C:/Windows/Fonts/NGULIM.TTF\"\n",
    "    font = fm.FontProperties(fname=font_path).get_name()\n",
    "    rc('font', family=font)\n",
    "\n",
    "    fig, ax = plt.subplots(figsize=(10,12))\n",
    "    plot_importance(model_xgb, ax=ax)\n",
    "\n",
    "\n",
    "def graph(pred, test_label) :\n",
    "  plt.figure(figsize=(16, 9))\n",
    "  plt.plot(test_label, label = 'actual')\n",
    "  plt.plot(pred, label = 'prediction')\n",
    "  plt.legend()\n",
    "  plt.show()"
   ]
  },
  {
   "cell_type": "code",
   "execution_count": 37,
   "id": "8d31181d",
   "metadata": {},
   "outputs": [],
   "source": [
    "input_data = pre_processing(nf_garlic)\n",
    "\n",
    "X_column = ['평균강수량', '최대강수량', '평균기온', '최고기온', '최저기온', '평균습도', '최저습도', '평균풍속',\n",
    "       '최대풍속', '마늘거래량', '마늘생산량', '마늘저장이월량', '마늘수입량', '마늘수입금액',\n",
    "       '마늘재배면적', '고급휘발유', '보통휘발유', '자동차용경유', '소비자물가지수', '농축수산물', '공업제품', '집세',\n",
    "       '공공서비스', '개인서비스', '근원물가', '생활물가']\n",
    "y_column = '마늘가격'\n",
    "\n",
    "train_X, test_X, train_y, test_y = get_data_split(input_data, X_column, y_column)"
   ]
  },
  {
   "cell_type": "code",
   "execution_count": 34,
   "id": "ea6931fd",
   "metadata": {},
   "outputs": [
    {
     "name": "stdout",
     "output_type": "stream",
     "text": [
      "mse:  0.002969\n",
      "rmse: 0.054486\n"
     ]
    }
   ],
   "source": [
    "model_xgb = XGBRegressor(n_estimators=100, learning_rate=0.1, gamma=0, subsample=0.75,\n",
    "                           colsample_bytree=1, max_depth=7)\n",
    "\n",
    "model_xgb.fit(train_X, train_y)\n",
    "\n",
    "pred_xgb = model_xgb.predict(test_X)\n",
    "\n",
    "# rmse\n",
    "mse = mean_squared_error(test_y, pred_xgb)\n",
    "print(\"mse:  %f\" % mse)\n",
    "\n",
    "rmse = np.sqrt(mse)\n",
    "print(\"rmse: %f\" %rmse)"
   ]
  },
  {
   "cell_type": "code",
   "execution_count": 35,
   "id": "e4a82abc",
   "metadata": {},
   "outputs": [
    {
     "data": {
      "text/html": [
       "<div>\n",
       "<style scoped>\n",
       "    .dataframe tbody tr th:only-of-type {\n",
       "        vertical-align: middle;\n",
       "    }\n",
       "\n",
       "    .dataframe tbody tr th {\n",
       "        vertical-align: top;\n",
       "    }\n",
       "\n",
       "    .dataframe thead th {\n",
       "        text-align: right;\n",
       "    }\n",
       "</style>\n",
       "<table border=\"1\" class=\"dataframe\">\n",
       "  <thead>\n",
       "    <tr style=\"text-align: right;\">\n",
       "      <th></th>\n",
       "      <th>true_y</th>\n",
       "      <th>xgb_pred_y</th>\n",
       "    </tr>\n",
       "  </thead>\n",
       "  <tbody>\n",
       "    <tr>\n",
       "      <th>0</th>\n",
       "      <td>0.645817</td>\n",
       "      <td>0.709193</td>\n",
       "    </tr>\n",
       "    <tr>\n",
       "      <th>1</th>\n",
       "      <td>0.342449</td>\n",
       "      <td>0.393841</td>\n",
       "    </tr>\n",
       "    <tr>\n",
       "      <th>2</th>\n",
       "      <td>0.737943</td>\n",
       "      <td>0.718035</td>\n",
       "    </tr>\n",
       "    <tr>\n",
       "      <th>3</th>\n",
       "      <td>0.718780</td>\n",
       "      <td>0.634977</td>\n",
       "    </tr>\n",
       "    <tr>\n",
       "      <th>4</th>\n",
       "      <td>0.956784</td>\n",
       "      <td>0.872444</td>\n",
       "    </tr>\n",
       "    <tr>\n",
       "      <th>...</th>\n",
       "      <td>...</td>\n",
       "      <td>...</td>\n",
       "    </tr>\n",
       "    <tr>\n",
       "      <th>425</th>\n",
       "      <td>0.609715</td>\n",
       "      <td>0.637691</td>\n",
       "    </tr>\n",
       "    <tr>\n",
       "      <th>426</th>\n",
       "      <td>0.343394</td>\n",
       "      <td>0.358913</td>\n",
       "    </tr>\n",
       "    <tr>\n",
       "      <th>427</th>\n",
       "      <td>0.598075</td>\n",
       "      <td>0.621227</td>\n",
       "    </tr>\n",
       "    <tr>\n",
       "      <th>428</th>\n",
       "      <td>0.747306</td>\n",
       "      <td>0.794823</td>\n",
       "    </tr>\n",
       "    <tr>\n",
       "      <th>429</th>\n",
       "      <td>0.245610</td>\n",
       "      <td>0.236787</td>\n",
       "    </tr>\n",
       "  </tbody>\n",
       "</table>\n",
       "<p>430 rows × 2 columns</p>\n",
       "</div>"
      ],
      "text/plain": [
       "       true_y  xgb_pred_y\n",
       "0    0.645817    0.709193\n",
       "1    0.342449    0.393841\n",
       "2    0.737943    0.718035\n",
       "3    0.718780    0.634977\n",
       "4    0.956784    0.872444\n",
       "..        ...         ...\n",
       "425  0.609715    0.637691\n",
       "426  0.343394    0.358913\n",
       "427  0.598075    0.621227\n",
       "428  0.747306    0.794823\n",
       "429  0.245610    0.236787\n",
       "\n",
       "[430 rows x 2 columns]"
      ]
     },
     "execution_count": 35,
     "metadata": {},
     "output_type": "execute_result"
    }
   ],
   "source": [
    "df_result = pd.DataFrame(list(zip(test_y, pred_xgb)), columns=['true_y', 'xgb_pred_y'])\n",
    "df_result "
   ]
  },
  {
   "cell_type": "code",
   "execution_count": 45,
   "id": "12894890",
   "metadata": {},
   "outputs": [
    {
     "data": {
      "image/png": "[encoded data removed]",
      "text/plain": [
       "<Figure size 720x864 with 1 Axes>"
      ]
     },
     "metadata": {
      "needs_background": "light"
     },
     "output_type": "display_data"
    }
   ],
   "source": [
    "feature_importance(model_xgb)"
   ]
  },
  {
   "cell_type": "code",
   "execution_count": null,
   "id": "68988e66",
   "metadata": {},
   "outputs": [],
   "source": []
  }
 ],
 "metadata": {
  "kernelspec": {
   "display_name": "Python 3",
   "language": "python",
   "name": "python3"
  },
  "language_info": {
   "codemirror_mode": {
    "name": "ipython",
    "version": 3
   },
   "file_extension": ".py",
   "mimetype": "text/x-python",
   "name": "python",
   "nbconvert_exporter": "python",
   "pygments_lexer": "ipython3",
   "version": "3.8.8"
  }
 },
 "nbformat": 4,
 "nbformat_minor": 5
}
