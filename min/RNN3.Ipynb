{
 "cells": [
  {
   "cell_type": "code",
   "execution_count": null,
   "metadata": {},
   "outputs": [],
   "source": [
    "import tensorflow as tf \n",
    "import numpy as np \n",
    "import matplotlib.pyplot as plt \n",
    "import pandas as pd \n",
    "from keras import backend as K\n",
    "import seaborn as sns\n",
    "from tensorflow.keras.optimizers import Adam\n",
    "from sklearn.preprocessing import MinMaxScaler"
   ]
  },
  {
   "cell_type": "code",
   "execution_count": null,
   "metadata": {},
   "outputs": [],
   "source": [
    "xy = pd.read_csv('대파Model.csv')\n",
    "\n",
    "def outliers_iqr(data, name) :\n",
    "  Q1, Q3 = np.percentile(data[name+\"가격\"], [25, 75])\n",
    "  IQR = Q3 - Q1\n",
    "  lower_bound = Q1 - (IQR * 1.5)\n",
    "  upper_bound = Q3 + (IQR * 1.5)\n",
    "  outlier_idx = data[name+\"가격\"][ (data[name+\"가격\"] < lower_bound) | (data[name+\"가격\"] > upper_bound) ].index\n",
    "  data.drop(outlier_idx, axis=0, inplace=True)\n",
    "  data.reset_index(drop=True, inplace=True)\n",
    "  return data\n",
    "\n",
    "\n",
    "xy = outliers_iqr(xy,\"대파\")\n",
    "\n"
   ]
  },
  {
   "cell_type": "code",
   "execution_count": null,
   "metadata": {},
   "outputs": [],
   "source": [
    "%matplotlib notebook\n",
    "plt.plot(xy['대파가격']) # 전체 종가\n",
    "xy.index = xy['날짜']\n",
    "xy = xy.drop(['날짜'],axis=1)"
   ]
  },
  {
   "cell_type": "code",
   "execution_count": null,
   "metadata": {},
   "outputs": [],
   "source": [
    "seqLength = 21 #window size \n",
    "dataDim = 27 # 시가, 고가, 저가, 거래량 , 종가\n",
    "hiddenDim = 10 \n",
    "outputDim = 1\n",
    "lr = 0.01\n",
    "iterations = 500\n",
    "\n",
    "trainSize = int(len(xy)*0.7)\n",
    "trainSet = xy[0:trainSize]\n",
    "testSet = xy[trainSize-seqLength:]\n",
    "\n",
    "scaler = MinMaxScaler()\n",
    "\n",
    "trainSet = scaler.fit_transform(trainSet)\n",
    "testSet = scaler.transform(testSet)\n"
   ]
  },
  {
   "cell_type": "code",
   "execution_count": null,
   "metadata": {},
   "outputs": [],
   "source": [
    "\n",
    "# 7일간의 5가지 데이터(시가, 종가, 고가, 저가, 거래량)를 받아와서 \n",
    "# 바로 다음 날의 종가를 예측하는 모델로 구성\n",
    "\n",
    "def buildDataSet(timeSeries, seqLength):\n",
    "    xdata = []\n",
    "    ydata = [] \n",
    "    a = len(timeSeries)\n",
    "    for i in range(0, a-seqLength):\n",
    "        tx = timeSeries[i:i+seqLength,:-1]\n",
    "        ty = timeSeries[i+seqLength,[-1]]\n",
    "        xdata.append(tx)\n",
    "        ydata.append(ty)\n",
    "    return np.array(xdata), np.array(ydata)\n",
    "    \n",
    "trainX, trainY=buildDataSet(trainSet, seqLength)\n",
    "testX, testY=buildDataSet(testSet, seqLength)"
   ]
  },
  {
   "cell_type": "code",
   "execution_count": null,
   "metadata": {},
   "outputs": [],
   "source": [
    "# 모델 구성 \n",
    "\n",
    "# First, let's define a RNN Cell, as a layer subclass.\n",
    "from tensorflow import keras\n",
    "from tensorflow.keras import layers\n",
    "\n",
    "model = keras.Sequential()\n",
    "\n",
    "model.add(layers.SimpleRNN(units=10, activation='tanh',input_shape=[21,26]))\n",
    "\n",
    "model.add(layers.Dense(1))\n",
    "\n",
    "model.summary()"
   ]
  },
  {
   "cell_type": "code",
   "execution_count": null,
   "metadata": {},
   "outputs": [],
   "source": [
    "def root_mean_squared_error(y_true, y_pred):\n",
    "        return K.sqrt(K.mean(K.square(y_pred - y_true)))\n",
    "\n",
    "model.compile(loss=root_mean_squared_error, optimizer=Adam(learning_rate=0.001), metrics=['rmse'])\n",
    "\n",
    "# 모델 트레이닝 \n",
    "hist = model.fit(trainX, trainY, epochs=1000, batch_size=16)"
   ]
  },
  {
   "cell_type": "code",
   "execution_count": null,
   "metadata": {},
   "outputs": [],
   "source": [
    "res = model.evaluate(testX, testY, batch_size=16)"
   ]
  },
  {
   "cell_type": "code",
   "execution_count": null,
   "metadata": {},
   "outputs": [],
   "source": [
    "#7 모델 사용\n",
    "xhat = testX\n",
    "\n",
    "yhat = model.predict(xhat)\n",
    "\n",
    "# yhat = scaler.inverse_transform(yhat)\n",
    "# testY = scaler.inverse_transform(testY)"
   ]
  },
  {
   "cell_type": "code",
   "execution_count": null,
   "metadata": {},
   "outputs": [],
   "source": [
    "%matplotlib notebook\n",
    "plt.figure(figsize=(20,10))\n",
    "plt.plot(yhat, label = \"Green_Onion_RNN\")\n",
    "plt.plot(testY,label = \"Real\")\n",
    "\n",
    "plt.legend(prop={'size': 20})\n",
    "plt.savefig('결과/대파모델.png')\n"
   ]
  }
 ],
 "metadata": {
  "interpreter": {
   "hash": "2647ea34e536f865ab67ff9ddee7fd78773d956cec0cab53c79b32cd10da5d83"
  },
  "kernelspec": {
   "display_name": "Python 3.9.7 64-bit",
   "language": "python",
   "name": "python3"
  },
  "language_info": {
   "codemirror_mode": {
    "name": "ipython",
    "version": 3
   },
   "file_extension": ".py",
   "mimetype": "text/x-python",
   "name": "python",
   "nbconvert_exporter": "python",
   "pygments_lexer": "ipython3",
   "version": "3.9.7"
  },
  "orig_nbformat": 4
 },
 "nbformat": 4,
 "nbformat_minor": 2
}
