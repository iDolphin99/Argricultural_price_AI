{
 "cells": [
  {
   "cell_type": "code",
   "execution_count": 48,
   "metadata": {},
   "outputs": [],
   "source": [
    "import numpy as np\n",
    "import pandas as pd\n",
    "from sklearn.preprocessing import MinMaxScaler\n",
    "\n",
    "import torch\n",
    "import torch.nn as nn\n",
    "import torch.optim as optim\n",
    "\n",
    "import matplotlib.pyplot as plt"
   ]
  },
  {
   "cell_type": "code",
   "execution_count": 49,
   "metadata": {},
   "outputs": [
    {
     "data": {
      "text/html": [
       "<div>\n",
       "<style scoped>\n",
       "    .dataframe tbody tr th:only-of-type {\n",
       "        vertical-align: middle;\n",
       "    }\n",
       "\n",
       "    .dataframe tbody tr th {\n",
       "        vertical-align: top;\n",
       "    }\n",
       "\n",
       "    .dataframe thead th {\n",
       "        text-align: right;\n",
       "    }\n",
       "</style>\n",
       "<table border=\"1\" class=\"dataframe\">\n",
       "  <thead>\n",
       "    <tr style=\"text-align: right;\">\n",
       "      <th></th>\n",
       "      <th>평균강수량</th>\n",
       "      <th>최대강수량</th>\n",
       "      <th>평균기온</th>\n",
       "      <th>최고기온</th>\n",
       "      <th>최저기온</th>\n",
       "      <th>평균습도</th>\n",
       "      <th>최저습도</th>\n",
       "      <th>평균풍속</th>\n",
       "      <th>최대풍속</th>\n",
       "      <th>무거래량</th>\n",
       "      <th>...</th>\n",
       "      <th>자동차용경유</th>\n",
       "      <th>소비자물가지수</th>\n",
       "      <th>농축수산물</th>\n",
       "      <th>공업제품</th>\n",
       "      <th>집세</th>\n",
       "      <th>공공서비스</th>\n",
       "      <th>개인서비스</th>\n",
       "      <th>근원물가</th>\n",
       "      <th>생활물가</th>\n",
       "      <th>무가격</th>\n",
       "    </tr>\n",
       "    <tr>\n",
       "      <th>날짜</th>\n",
       "      <th></th>\n",
       "      <th></th>\n",
       "      <th></th>\n",
       "      <th></th>\n",
       "      <th></th>\n",
       "      <th></th>\n",
       "      <th></th>\n",
       "      <th></th>\n",
       "      <th></th>\n",
       "      <th></th>\n",
       "      <th></th>\n",
       "      <th></th>\n",
       "      <th></th>\n",
       "      <th></th>\n",
       "      <th></th>\n",
       "      <th></th>\n",
       "      <th></th>\n",
       "      <th></th>\n",
       "      <th></th>\n",
       "      <th></th>\n",
       "      <th></th>\n",
       "    </tr>\n",
       "  </thead>\n",
       "  <tbody>\n",
       "    <tr>\n",
       "      <th>2020-12-25</th>\n",
       "      <td>0.000981</td>\n",
       "      <td>0.005464</td>\n",
       "      <td>0.260442</td>\n",
       "      <td>0.262181</td>\n",
       "      <td>0.261728</td>\n",
       "      <td>0.384615</td>\n",
       "      <td>0.227273</td>\n",
       "      <td>0.302326</td>\n",
       "      <td>0.296804</td>\n",
       "      <td>0.226411</td>\n",
       "      <td>...</td>\n",
       "      <td>0.222941</td>\n",
       "      <td>0.310345</td>\n",
       "      <td>0.824885</td>\n",
       "      <td>0.25</td>\n",
       "      <td>0.310345</td>\n",
       "      <td>0.528736</td>\n",
       "      <td>0.2</td>\n",
       "      <td>0.32</td>\n",
       "      <td>0.181818</td>\n",
       "      <td>0.149687</td>\n",
       "    </tr>\n",
       "    <tr>\n",
       "      <th>2020-12-26</th>\n",
       "      <td>0.000000</td>\n",
       "      <td>0.000000</td>\n",
       "      <td>0.285012</td>\n",
       "      <td>0.334107</td>\n",
       "      <td>0.251852</td>\n",
       "      <td>0.569231</td>\n",
       "      <td>0.348485</td>\n",
       "      <td>0.069767</td>\n",
       "      <td>0.098174</td>\n",
       "      <td>0.222846</td>\n",
       "      <td>...</td>\n",
       "      <td>0.226962</td>\n",
       "      <td>0.310345</td>\n",
       "      <td>0.824885</td>\n",
       "      <td>0.25</td>\n",
       "      <td>0.310345</td>\n",
       "      <td>0.528736</td>\n",
       "      <td>0.2</td>\n",
       "      <td>0.32</td>\n",
       "      <td>0.181818</td>\n",
       "      <td>0.154087</td>\n",
       "    </tr>\n",
       "    <tr>\n",
       "      <th>2020-12-28</th>\n",
       "      <td>0.000981</td>\n",
       "      <td>0.003643</td>\n",
       "      <td>0.358722</td>\n",
       "      <td>0.426914</td>\n",
       "      <td>0.350617</td>\n",
       "      <td>0.753846</td>\n",
       "      <td>0.333333</td>\n",
       "      <td>0.000000</td>\n",
       "      <td>0.038813</td>\n",
       "      <td>0.404161</td>\n",
       "      <td>...</td>\n",
       "      <td>0.234034</td>\n",
       "      <td>0.310345</td>\n",
       "      <td>0.824885</td>\n",
       "      <td>0.25</td>\n",
       "      <td>0.310345</td>\n",
       "      <td>0.528736</td>\n",
       "      <td>0.2</td>\n",
       "      <td>0.32</td>\n",
       "      <td>0.181818</td>\n",
       "      <td>0.154165</td>\n",
       "    </tr>\n",
       "    <tr>\n",
       "      <th>2020-12-29</th>\n",
       "      <td>0.017664</td>\n",
       "      <td>0.017955</td>\n",
       "      <td>0.307125</td>\n",
       "      <td>0.350348</td>\n",
       "      <td>0.303704</td>\n",
       "      <td>0.769231</td>\n",
       "      <td>0.469697</td>\n",
       "      <td>0.209302</td>\n",
       "      <td>0.337900</td>\n",
       "      <td>0.241270</td>\n",
       "      <td>...</td>\n",
       "      <td>0.240120</td>\n",
       "      <td>0.310345</td>\n",
       "      <td>0.824885</td>\n",
       "      <td>0.25</td>\n",
       "      <td>0.310345</td>\n",
       "      <td>0.528736</td>\n",
       "      <td>0.2</td>\n",
       "      <td>0.32</td>\n",
       "      <td>0.181818</td>\n",
       "      <td>0.169303</td>\n",
       "    </tr>\n",
       "    <tr>\n",
       "      <th>2020-12-30</th>\n",
       "      <td>0.010795</td>\n",
       "      <td>0.086911</td>\n",
       "      <td>0.088452</td>\n",
       "      <td>0.125290</td>\n",
       "      <td>0.120988</td>\n",
       "      <td>0.384615</td>\n",
       "      <td>0.257576</td>\n",
       "      <td>0.720930</td>\n",
       "      <td>0.509132</td>\n",
       "      <td>0.232263</td>\n",
       "      <td>...</td>\n",
       "      <td>0.245420</td>\n",
       "      <td>0.310345</td>\n",
       "      <td>0.824885</td>\n",
       "      <td>0.25</td>\n",
       "      <td>0.310345</td>\n",
       "      <td>0.528736</td>\n",
       "      <td>0.2</td>\n",
       "      <td>0.32</td>\n",
       "      <td>0.181818</td>\n",
       "      <td>0.176166</td>\n",
       "    </tr>\n",
       "  </tbody>\n",
       "</table>\n",
       "<p>5 rows × 27 columns</p>\n",
       "</div>"
      ],
      "text/plain": [
       "               평균강수량     최대강수량      평균기온      최고기온      최저기온      평균습도  \\\n",
       "날짜                                                                       \n",
       "2020-12-25  0.000981  0.005464  0.260442  0.262181  0.261728  0.384615   \n",
       "2020-12-26  0.000000  0.000000  0.285012  0.334107  0.251852  0.569231   \n",
       "2020-12-28  0.000981  0.003643  0.358722  0.426914  0.350617  0.753846   \n",
       "2020-12-29  0.017664  0.017955  0.307125  0.350348  0.303704  0.769231   \n",
       "2020-12-30  0.010795  0.086911  0.088452  0.125290  0.120988  0.384615   \n",
       "\n",
       "                최저습도      평균풍속      최대풍속      무거래량  ...    자동차용경유   소비자물가지수  \\\n",
       "날짜                                                  ...                       \n",
       "2020-12-25  0.227273  0.302326  0.296804  0.226411  ...  0.222941  0.310345   \n",
       "2020-12-26  0.348485  0.069767  0.098174  0.222846  ...  0.226962  0.310345   \n",
       "2020-12-28  0.333333  0.000000  0.038813  0.404161  ...  0.234034  0.310345   \n",
       "2020-12-29  0.469697  0.209302  0.337900  0.241270  ...  0.240120  0.310345   \n",
       "2020-12-30  0.257576  0.720930  0.509132  0.232263  ...  0.245420  0.310345   \n",
       "\n",
       "               농축수산물  공업제품        집세     공공서비스  개인서비스  근원물가      생활물가  \\\n",
       "날짜                                                                      \n",
       "2020-12-25  0.824885  0.25  0.310345  0.528736    0.2  0.32  0.181818   \n",
       "2020-12-26  0.824885  0.25  0.310345  0.528736    0.2  0.32  0.181818   \n",
       "2020-12-28  0.824885  0.25  0.310345  0.528736    0.2  0.32  0.181818   \n",
       "2020-12-29  0.824885  0.25  0.310345  0.528736    0.2  0.32  0.181818   \n",
       "2020-12-30  0.824885  0.25  0.310345  0.528736    0.2  0.32  0.181818   \n",
       "\n",
       "                 무가격  \n",
       "날짜                    \n",
       "2020-12-25  0.149687  \n",
       "2020-12-26  0.154087  \n",
       "2020-12-28  0.154165  \n",
       "2020-12-29  0.169303  \n",
       "2020-12-30  0.176166  \n",
       "\n",
       "[5 rows x 27 columns]"
      ]
     },
     "execution_count": 49,
     "metadata": {},
     "output_type": "execute_result"
    }
   ],
   "source": [
    "df = pd.read_csv('무Model.csv')\n",
    "df.index = df['날짜']\n",
    "df = df.drop(['날짜'],axis=1)\n",
    "scaler = MinMaxScaler()\n",
    "df_mm = scaler.fit_transform(df)\n",
    "df_mm = pd.DataFrame(df_mm)\n",
    "df_mm.index = df.index\n",
    "df_mm.columns = df.columns\n",
    "df_mm.tail()\n"
   ]
  },
  {
   "cell_type": "code",
   "execution_count": 50,
   "metadata": {},
   "outputs": [],
   "source": [
    "imsi = df_mm.drop(['무가격'],axis=1)\n",
    "X = imsi.values\n",
    "y = df_mm['무가격'].values\n"
   ]
  },
  {
   "cell_type": "code",
   "execution_count": 51,
   "metadata": {},
   "outputs": [],
   "source": [
    "def seq_data(x, y, sequence_length):\n",
    "  \n",
    "  x_seq = []\n",
    "  y_seq = []\n",
    "  for i in range(len(x) - sequence_length):\n",
    "    x_seq.append(x[i: i+sequence_length])\n",
    "    y_seq.append(y[i+sequence_length])\n",
    "\n",
    "  return torch.FloatTensor(x_seq).to(device), torch.FloatTensor(y_seq).to(device).view([-1, 1]) # float형 tensor로 변형, gpu사용가능하게 .to(device)를 사용.\n",
    "  "
   ]
  },
  {
   "cell_type": "code",
   "execution_count": 52,
   "metadata": {},
   "outputs": [
    {
     "name": "stdout",
     "output_type": "stream",
     "text": [
      "torch.Size([169, 2000, 26]) torch.Size([169, 1])\n",
      "torch.Size([0, 2000, 26]) torch.Size([0, 1])\n"
     ]
    }
   ],
   "source": [
    "split = 200\n",
    "sequence_length = 2000\n",
    "\n",
    "x_seq, y_seq = seq_data(X, y, sequence_length)\n",
    "\n",
    "x_train_seq = x_seq[:split]\n",
    "y_train_seq = y_seq[:split]\n",
    "x_test_seq = x_seq[split:]\n",
    "y_test_seq = y_seq[split:]\n",
    "print(x_train_seq.size(), y_train_seq.size())\n",
    "print(x_test_seq.size(), y_test_seq.size())"
   ]
  },
  {
   "cell_type": "code",
   "execution_count": 53,
   "metadata": {},
   "outputs": [],
   "source": [
    "train = torch.utils.data.TensorDataset(x_train_seq, y_train_seq)\n",
    "test = torch.utils.data.TensorDataset(x_test_seq, y_test_seq)\n",
    "\n",
    "batch_size = 20\n",
    "train_loader = torch.utils.data.DataLoader(dataset=train, batch_size=batch_size, shuffle=False)\n",
    "test_loader = torch.utils.data.DataLoader(dataset=test, batch_size=batch_size, shuffle=False)"
   ]
  },
  {
   "cell_type": "code",
   "execution_count": 54,
   "metadata": {},
   "outputs": [],
   "source": [
    "input_size = x_seq.size(2)\n",
    "num_layers = 2\n",
    "hidden_size = 8"
   ]
  },
  {
   "cell_type": "code",
   "execution_count": 55,
   "metadata": {},
   "outputs": [],
   "source": [
    "class VanillaRNN(nn.Module):\n",
    "\n",
    "  def __init__(self, input_size, hidden_size, sequence_length, num_layers, device):\n",
    "    super(VanillaRNN, self).__init__()\n",
    "    self.device = device\n",
    "    self.hidden_size = hidden_size\n",
    "    self.num_layers = num_layers\n",
    "    self.rnn = nn.RNN(input_size, hidden_size, num_layers, batch_first=True)\n",
    "    self.fc = nn.Sequential(nn.Linear(hidden_size * sequence_length, 1), nn.Sigmoid())\n",
    "\n",
    "  def forward(self, x):\n",
    "    h0 = torch.zeros(self.num_layers, x.size()[0], self.hidden_size).to(self.device) # 초기 hidden state 설정하기.\n",
    "    out, _ = self.rnn(x, h0) \n",
    "    out = out.reshape(out.shape[0], -1) \n",
    "    out = self.fc(out)\n",
    "    return out\n",
    "model = VanillaRNN(input_size=input_size,\n",
    "                   hidden_size=hidden_size,\n",
    "                   sequence_length=sequence_length,\n",
    "                   num_layers=num_layers,\n",
    "                   device=device).to(device)"
   ]
  },
  {
   "cell_type": "code",
   "execution_count": 56,
   "metadata": {},
   "outputs": [],
   "source": [
    "criterion = nn.MSELoss()\n",
    "\n",
    "lr = 1e-3\n",
    "num_epochs = 200\n",
    "optimizer = optim.Adam(model.parameters(), lr=lr)"
   ]
  },
  {
   "cell_type": "code",
   "execution_count": 57,
   "metadata": {},
   "outputs": [
    {
     "name": "stdout",
     "output_type": "stream",
     "text": [
      "[epoch: 0] loss: 0.0667\n",
      "[epoch: 100] loss: 0.0568\n"
     ]
    }
   ],
   "source": [
    "loss_graph = [] # 그래프 그릴 목적인 loss.\n",
    "n = len(train_loader)\n",
    "\n",
    "for epoch in range(num_epochs):\n",
    "  running_loss = 0.0\n",
    "\n",
    "  for data in train_loader:\n",
    "\n",
    "    seq, target = data # 배치 데이터.\n",
    "    out = model(seq)   # 모델에 넣고,\n",
    "    loss = criterion(out, target) # output 가지고 loss 구하고,\n",
    "\n",
    "    optimizer.zero_grad() # \n",
    "    loss.backward() # loss가 최소가 되게하는 \n",
    "    optimizer.step() # 가중치 업데이트 해주고,\n",
    "    running_loss += loss.item() # 한 배치의 loss 더해주고,\n",
    "\n",
    "  loss_graph.append(running_loss / n) # 한 epoch에 모든 배치들에 대한 평균 loss 리스트에 담고,\n",
    "  if epoch % 100 == 0:\n",
    "    print('[epoch: %d] loss: %.4f'%(epoch, running_loss/n))"
   ]
  },
  {
   "cell_type": "code",
   "execution_count": 58,
   "metadata": {},
   "outputs": [
    {
     "data": {
      "image/png": "[encoded data removed]",
      "text/plain": [
       "<Figure size 1440x720 with 1 Axes>"
      ]
     },
     "metadata": {
      "needs_background": "light"
     },
     "output_type": "display_data"
    }
   ],
   "source": [
    "plt.figure(figsize=(20,10))\n",
    "plt.plot(loss_graph)\n",
    "plt.show()"
   ]
  },
  {
   "cell_type": "code",
   "execution_count": 61,
   "metadata": {},
   "outputs": [
    {
     "data": {
      "image/png": "[encoded data removed]",
      "text/plain": [
       "<Figure size 1440x720 with 1 Axes>"
      ]
     },
     "metadata": {
      "needs_background": "light"
     },
     "output_type": "display_data"
    }
   ],
   "source": [
    "def plotting(train_loader, test_loader, actual):\n",
    "  with torch.no_grad():\n",
    "    train_pred = []\n",
    "    test_pred = []\n",
    "\n",
    "    for data in train_loader:\n",
    "      seq, target = data\n",
    "      out = model(seq)\n",
    "      train_pred += out.cpu().numpy().tolist()\n",
    "\n",
    "    for data in test_loader:\n",
    "      seq, target = data\n",
    "      out = model(seq)\n",
    "      test_pred += out.cpu().numpy().tolist()\n",
    "      \n",
    "  total = train_pred + test_pred\n",
    "  plt.figure(figsize=(20,10))\n",
    "  plt.plot(np.ones(100)*len(train_pred), np.linspace(0,1,100), '--', linewidth=0.6)\n",
    "  plt.plot(actual, '--')\n",
    "  plt.plot(total, 'b', linewidth=0.6)\n",
    "\n",
    "  plt.legend(['train boundary', 'actual', 'prediction'])\n",
    "  plt.show()\n",
    "\n",
    "plotting(train_loader, test_loader, df['무가격'][sequence_length:])"
   ]
  }
 ],
 "metadata": {
  "interpreter": {
   "hash": "2647ea34e536f865ab67ff9ddee7fd78773d956cec0cab53c79b32cd10da5d83"
  },
  "kernelspec": {
   "display_name": "Python 3.9.7 64-bit",
   "language": "python",
   "name": "python3"
  },
  "language_info": {
   "codemirror_mode": {
    "name": "ipython",
    "version": 3
   },
   "file_extension": ".py",
   "mimetype": "text/x-python",
   "name": "python",
   "nbconvert_exporter": "python",
   "pygments_lexer": "ipython3",
   "version": "3.9.7"
  },
  "orig_nbformat": 4
 },
 "nbformat": 4,
 "nbformat_minor": 2
}
